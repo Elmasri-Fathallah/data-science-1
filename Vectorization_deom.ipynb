{
  "nbformat": 4,
  "nbformat_minor": 0,
  "metadata": {
    "colab": {
      "name": "Snippets: Importing libraries",
      "provenance": [],
      "collapsed_sections": [],
      "include_colab_link": true
    },
    "kernelspec": {
      "display_name": "Python 3",
      "name": "python3"
    }
  },
  "cells": [
    {
      "cell_type": "markdown",
      "metadata": {
        "id": "view-in-github",
        "colab_type": "text"
      },
      "source": [
        "<a href=\"https://colab.research.google.com/github/Elmasri-Fathallah/data-science-1/blob/master/Vectorization_deom.ipynb\" target=\"_parent\"><img src=\"https://colab.research.google.com/assets/colab-badge.svg\" alt=\"Open In Colab\"/></a>"
      ]
    },
    {
      "cell_type": "markdown",
      "metadata": {
        "id": "kDn_lVxg3Z2G"
      },
      "source": [
        "# Neural Networks and Deep Learning \n",
        "## Week 2\n",
        "### Vectorization Demo\n",
        "\n",
        "This Notebook explains how much time we can save in Neural Network Training when using Vectorization"
      ]
    },
    {
      "cell_type": "code",
      "metadata": {
        "id": "QOyYXNpFwkls",
        "outputId": "88cb3e78-94a7-4657-e75b-bb0500518a77",
        "colab": {
          "base_uri": "https://localhost:8080/",
          "height": 34
        }
      },
      "source": [
        "import numpy as np\n",
        "\n",
        "a = np.array([1,2,3,4])\n",
        "print(a)"
      ],
      "execution_count": 11,
      "outputs": [
        {
          "output_type": "stream",
          "text": [
            "[1 2 3 4]\n"
          ],
          "name": "stdout"
        }
      ]
    },
    {
      "cell_type": "code",
      "metadata": {
        "id": "fh3SGYJVwmZv",
        "outputId": "759f2aa3-1504-4725-b122-7f370ca26fd9",
        "colab": {
          "base_uri": "https://localhost:8080/",
          "height": 85
        }
      },
      "source": [
        "\n",
        "import time\n",
        "\n",
        "a = np.random.rand(1000000)\n",
        "b = np.random.rand(1000000)\n",
        "\n",
        "tic = time.time()  # register the cureent time stamp\n",
        "c = np.dot(a,b)\n",
        "toc = time.time()\n",
        "\n",
        "print(c)\n",
        "print(\"Vectorization version:\" + str(1000*(toc-tic)) + \"ms\")\n",
        "\n",
        "c= 0\n",
        "tic = time.time()\n",
        "for i in range(1000000):\n",
        "  c +=a[i]*b[i]\n",
        "toc  = time.time()\n",
        "\n",
        "print(c)\n",
        "print(\"For Loop:\"+ str(1000*(toc-tic))+ \"ms\")"
      ],
      "execution_count": 12,
      "outputs": [
        {
          "output_type": "stream",
          "text": [
            "249989.24393470318\n",
            "Vectorization version:1.4989376068115234ms\n",
            "249989.24393470248\n",
            "For Loop:657.8807830810547ms\n"
          ],
          "name": "stdout"
        }
      ]
    },
    {
      "cell_type": "code",
      "metadata": {
        "id": "9oWbG9GXwnte"
      },
      "source": [
        ""
      ],
      "execution_count": null,
      "outputs": []
    }
  ]
}